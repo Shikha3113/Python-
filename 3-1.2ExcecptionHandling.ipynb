{
  "cells": [
    {
      "cell_type": "markdown",
      "id": "6c1db578-7330-4ef0-810e-5525e1847871",
      "metadata": {},
      "outputs": [],
      "source": [
        "<center>\n",
        "    <img src=\"https://cf-courses-data.s3.us.cloud-object-storage.appdomain.cloud/IBMDeveloperSkillsNetwork-PY0101EN-SkillsNetwork/IDSNlogo.png\" width=\"300\" alt=\"cognitiveclass.ai logo\">\n",
        "</center>\n"
      ]
    },
    {
      "cell_type": "markdown",
      "id": "60f93b48-718b-44b5-a955-d57a99732756",
      "metadata": {},
      "outputs": [],
      "source": [
        "# **Exception Handling**\n",
        "\n",
        "Estimated time needed: **15** minutes\n",
        "\n",
        "## Objectives\n",
        "\n",
        "After completing this lab you will be able to:\n",
        "\n",
        "*   Understand exceptions\n",
        "*   Handle the exceptions\n"
      ]
    },
    {
      "cell_type": "markdown",
      "id": "94d9ff66-c393-4d75-a1d4-91d07ed9de2d",
      "metadata": {},
      "outputs": [],
      "source": [
        "## Table of Contents\n"
      ]
    },
    {
      "cell_type": "markdown",
      "id": "bb9b5beb-d19e-4e6a-ab8e-6148793205c6",
      "metadata": {},
      "outputs": [],
      "source": [
        "*   What is an Exception?\n",
        "*   Exception Handling\n"
      ]
    },
    {
      "cell_type": "markdown",
      "id": "f3e671a4-e487-4185-8ea9-c37696dc5221",
      "metadata": {},
      "outputs": [],
      "source": [
        "***\n"
      ]
    },
    {
      "cell_type": "markdown",
      "id": "19c04705-0f4a-4caa-bc33-e1b5e08c6e59",
      "metadata": {},
      "outputs": [],
      "source": [
        "## What is an Exception?\n"
      ]
    },
    {
      "cell_type": "markdown",
      "id": "911b7c80-ecbc-475c-ad03-6010b74c4a93",
      "metadata": {},
      "outputs": [],
      "source": [
        "In this section you will learn about what an exception is and see examples of them.\n"
      ]
    },
    {
      "cell_type": "markdown",
      "id": "85bb16f5-c94c-43f6-9c67-1ef0d6285f25",
      "metadata": {},
      "outputs": [],
      "source": [
        "### Definition\n"
      ]
    },
    {
      "cell_type": "markdown",
      "id": "ce0f3f8e-ac71-44cf-b021-623dad2e1edb",
      "metadata": {},
      "outputs": [],
      "source": [
        "An exception is an error that occurs during the execution of code. This error causes the code to raise an exception and if not prepared to handle it will halt the execution of the code.\n"
      ]
    },
    {
      "cell_type": "markdown",
      "id": "cf95c76a-00a6-4801-b219-8afcf2015cbb",
      "metadata": {},
      "outputs": [],
      "source": [
        "### Examples\n"
      ]
    },
    {
      "cell_type": "markdown",
      "id": "23c2ab1b-8b1e-4cb0-a3ed-ad917715cdc2",
      "metadata": {},
      "outputs": [],
      "source": [
        "Run each piece of code and observe the exception raised\n"
      ]
    },
    {
      "cell_type": "code",
      "id": "41231a5e-5604-4c11-bdc0-44762d7c3527",
      "metadata": {},
      "outputs": [],
      "source": [
        "1/0"
      ]
    },
    {
      "cell_type": "markdown",
      "id": "1b769b45-98ae-4c09-884f-f99d266ce7d7",
      "metadata": {},
      "outputs": [],
      "source": [
        "<code>ZeroDivisionError</code> occurs when you try to divide by zero.\n"
      ]
    },
    {
      "cell_type": "code",
      "id": "b9de46cb-fea0-425c-98a7-4d50c02d1608",
      "metadata": {},
      "outputs": [],
      "source": [
        "y = a + 5"
      ]
    },
    {
      "cell_type": "markdown",
      "id": "e25b2106-ff4c-40e1-9fca-aa8d749a06d1",
      "metadata": {},
      "outputs": [],
      "source": [
        "<code>NameError</code> -- in this case, it means that you tried to use the variable a when it was not defined.\n"
      ]
    },
    {
      "cell_type": "code",
      "id": "1e606e5b-f06a-457a-95da-8b315b0e055d",
      "metadata": {},
      "outputs": [],
      "source": [
        "a = [1, 2, 3]\na[10]"
      ]
    },
    {
      "cell_type": "markdown",
      "id": "fd71f1a7-63ad-410f-9eec-8bd4753934c9",
      "metadata": {},
      "outputs": [],
      "source": [
        "<code>IndexError</code> -- in this case, it occured because you tried to access data from a list using an index that does not exist for this list.\n"
      ]
    },
    {
      "cell_type": "markdown",
      "id": "f0d99a91-56e9-434d-a15f-2cfc35efab31",
      "metadata": {},
      "outputs": [],
      "source": [
        "There are many more exceptions that are built into Python, here is a list of them [https://docs.python.org/3/library/exceptions.html](https://docs.python.org/3/library/exceptions.html?utm_medium=Exinfluencer&utm_source=Exinfluencer&utm_content=000026UJ&utm_term=10006555&utm_id=NA-SkillsNetwork-Channel-SkillsNetworkCoursesIBMDeveloperSkillsNetworkPY0101ENSkillsNetwork19487395-2021-01-01)\n"
      ]
    },
    {
      "cell_type": "markdown",
      "id": "e8d76cbe-288b-4a23-9b4b-33cd265bc933",
      "metadata": {},
      "outputs": [],
      "source": [
        "## Exception Handling\n"
      ]
    },
    {
      "cell_type": "markdown",
      "id": "631cd6f8-eb85-44c6-9026-d97ba6dd454f",
      "metadata": {},
      "outputs": [],
      "source": [
        "In this section you will learn how to handle exceptions. You will understand how to make your program perform specified tasks instead of halting code execution when an exception is encountered.\n"
      ]
    },
    {
      "cell_type": "markdown",
      "id": "6726e0e0-f57f-4f66-a73b-8f795a53cc53",
      "metadata": {},
      "outputs": [],
      "source": [
        "### Try Except\n"
      ]
    },
    {
      "cell_type": "markdown",
      "id": "0cea5e5c-54bb-4fce-9a11-ee8ce5a806f6",
      "metadata": {},
      "outputs": [],
      "source": [
        "A <code>try except</code> will allow you to execute code that might raise an exception and in the case of any exception or a specific one we can handle or catch the exception and execute specific code. This will allow us to continue the execution of our program even if there is an exception.\n",
        "\n",
        "Python tries to execute the code in the <code>try</code> block. In this case if there is any exception raised by the code in the <code>try</code> block, it will be caught and the code block in the <code>except</code> block will be executed. After that, the code that comes <em>after</em> the try except will be executed.\n"
      ]
    },
    {
      "cell_type": "code",
      "id": "2fc97c3c-a8df-4e3c-9c34-6a3324595feb",
      "metadata": {},
      "outputs": [],
      "source": [
        "# potential code before try catch\n\ntry:\n    # code to try to execute\nexcept:\n    # code to execute if there is an exception\n    \n# code that will still execute if there is an exception"
      ]
    },
    {
      "cell_type": "markdown",
      "id": "cc803f70-f04c-40c3-8d68-797c9a3d1774",
      "metadata": {},
      "outputs": [],
      "source": [
        "### Try Except Example\n"
      ]
    },
    {
      "cell_type": "markdown",
      "id": "7bb87c49-3ad4-4773-9892-d637963ad32e",
      "metadata": {},
      "outputs": [],
      "source": [
        "In this example we are trying to divide a number given by the user, save the outcome in the variable <code>a</code>, and then we would like to print the result of the operation. When taking user input and dividing a number by it there are a couple of exceptions that can be raised. For example if we divide by zero. Try running the following block of code with <code>b</code> as a number. An exception will only be raised if <code>b</code> is zero.\n"
      ]
    },
    {
      "cell_type": "code",
      "id": "c4bf1940-d0d9-430e-a6f6-adbc5e5d9eb5",
      "metadata": {},
      "outputs": [],
      "source": [
        "a = 1\n\ntry:\n    b = int(input(\"Please enter a number to divide a\"))\n    a = a/b\n    print(\"Success a=\",a)\nexcept:\n    print(\"There was an error\")\n        \n"
      ]
    },
    {
      "cell_type": "markdown",
      "id": "803df578-eac8-40e8-9bdb-ab2404e76a73",
      "metadata": {},
      "outputs": [],
      "source": [
        "### Try Except Specific\n"
      ]
    },
    {
      "cell_type": "markdown",
      "id": "309f0127-3b7b-4fb5-9dfd-c4343b9ee8d4",
      "metadata": {},
      "outputs": [],
      "source": [
        "A specific <code>try except</code> allows you to catch certain exceptions and also execute certain codes depending on the exception. This is useful if you do not want to deal with some exceptions and the execution should halt. It can also help you find errors in your code that you might not be aware of. Furthermore, it can help you differentiate responses to different exceptions. In this case, the code after the try except might not run depending on the error.\n"
      ]
    },
    {
      "cell_type": "markdown",
      "id": "a63a9add-0492-41f2-b5c6-a4a677128cad",
      "metadata": {},
      "outputs": [],
      "source": [
        "<b>Do not run, just to illustrate:</b>\n"
      ]
    },
    {
      "cell_type": "code",
      "id": "8da59fe8-5bff-41a2-a63e-af119ee1bfb7",
      "metadata": {},
      "outputs": [],
      "source": [
        "# potential code before try catch\n\ntry:\n    # code to try to execute\nexcept (ZeroDivisionError, NameError):\n    # code to execute if there is an exception of the given types\n    \n# code that will execute if there is no exception or a one that we are handling"
      ]
    },
    {
      "cell_type": "code",
      "id": "bb7042c8-5304-4f6c-8057-68615460758c",
      "metadata": {},
      "outputs": [],
      "source": [
        "# potential code before try catch\n\ntry:\n    # code to try to execute\nexcept ZeroDivisionError:\n    # code to execute if there is a ZeroDivisionError\nexcept NameError:\n    # code to execute if there is a NameError\n    \n# code that will execute if there is no exception or a one that we are handling"
      ]
    },
    {
      "cell_type": "markdown",
      "id": "ab947470-fa54-444f-a295-38e9ced9430e",
      "metadata": {},
      "outputs": [],
      "source": [
        "You can also have an empty <code>except</code> at the end to catch an unexpected exception:\n"
      ]
    },
    {
      "cell_type": "markdown",
      "id": "759a130f-84cf-47d5-9207-11885836fc64",
      "metadata": {},
      "outputs": [],
      "source": [
        "<b>Do not run, just to illustrate:</b>\n"
      ]
    },
    {
      "cell_type": "code",
      "id": "9433167f-817c-4248-858b-b69f36a6e37a",
      "metadata": {},
      "outputs": [],
      "source": [
        "# potential code before try catch\n\ntry:\n    # code to try to execute\nexcept ZeroDivisionError:\n    # code to execute if there is a ZeroDivisionError\nexcept NameError:\n    # code to execute if there is a NameError\nexcept:\n    # code to execute if ther is any exception\n    \n# code that will execute if there is no exception or a one that we are handling"
      ]
    },
    {
      "cell_type": "markdown",
      "id": "04cbd9a8-18a3-4968-b46d-7b6fb5b86926",
      "metadata": {},
      "outputs": [],
      "source": [
        "### Try Except Specific Example\n"
      ]
    },
    {
      "cell_type": "markdown",
      "id": "d119fe77-0612-4fe5-9767-123f2f82c4e8",
      "metadata": {},
      "outputs": [],
      "source": [
        "This is the same example as above, but now we will add differentiated messages depending on the exception, letting the user know what is wrong with the input.\n"
      ]
    },
    {
      "cell_type": "code",
      "id": "2a10e0d5-56df-481b-9650-49449635578d",
      "metadata": {},
      "outputs": [],
      "source": [
        "a = 1\n\ntry:\n    b = int(input(\"Please enter a number to divide a\"))\n    a = a/b\n    print(\"Success a=\",a)\nexcept ZeroDivisionError:\n    print(\"The number you provided cant divide 1 because it is 0\")\nexcept ValueError:\n    print(\"You did not provide a number\")\nexcept:\n    print(\"Something went wrong\")\n        \n"
      ]
    },
    {
      "cell_type": "markdown",
      "id": "51f27eea-51f3-44f6-9302-aa5da08bf942",
      "metadata": {},
      "outputs": [],
      "source": [
        "### Try Except Else and Finally\n"
      ]
    },
    {
      "cell_type": "markdown",
      "id": "686c3847-40f3-48ff-a1e4-748e23e28895",
      "metadata": {},
      "outputs": [],
      "source": [
        "<code>else</code> allows one to check if there was no exception when executing the try block. This is useful when we want to execute something only if there were no errors.\n"
      ]
    },
    {
      "cell_type": "markdown",
      "id": "82254eda-a22d-4c6a-a6f7-0078874475f5",
      "metadata": {},
      "outputs": [],
      "source": [
        "<b>do not run, just to illustrate</b>\n"
      ]
    },
    {
      "cell_type": "code",
      "id": "a7410e16-591b-4645-b380-3a91e523bc2d",
      "metadata": {},
      "outputs": [],
      "source": [
        "# potential code before try catch\n\ntry:\n    # code to try to execute\nexcept ZeroDivisionError:\n    # code to execute if there is a ZeroDivisionError\nexcept NameError:\n    # code to execute if there is a NameError\nexcept:\n    # code to execute if ther is any exception\nelse:\n    # code to execute if there is no exception\n    \n# code that will execute if there is no exception or a one that we are handling"
      ]
    },
    {
      "cell_type": "markdown",
      "id": "e109ae60-049f-44dc-9ff8-5ecbe5d0dee2",
      "metadata": {},
      "outputs": [],
      "source": [
        "<code>finally</code> allows us to always execute something even if there is an exception or not. This is usually used to signify the end of the try except.\n"
      ]
    },
    {
      "cell_type": "code",
      "id": "91fb367c-01c0-4c6f-9561-3772e17ea58f",
      "metadata": {},
      "outputs": [],
      "source": [
        "# potential code before try catch\n\ntry:\n    # code to try to execute\nexcept ZeroDivisionError:\n    # code to execute if there is a ZeroDivisionError\nexcept NameError:\n    # code to execute if there is a NameError\nexcept:\n    # code to execute if ther is any exception\nelse:\n    # code to execute if there is no exception\nfinally:\n    # code to execute at the end of the try except no matter what\n    \n# code that will execute if there is no exception or a one that we are handling"
      ]
    },
    {
      "cell_type": "markdown",
      "id": "263bb1f9-7bca-4fb8-b433-f6e60f6b4144",
      "metadata": {},
      "outputs": [],
      "source": [
        "### Try Except Else and Finally Example\n"
      ]
    },
    {
      "cell_type": "markdown",
      "id": "267b973c-4f85-4272-a8d8-f31627e93382",
      "metadata": {},
      "outputs": [],
      "source": [
        "You might have noticed that even if there is an error the value of <code>a</code> is always printed. Let's use the <code>else</code> and print the value of <code>a</code> only if there is no error.\n"
      ]
    },
    {
      "cell_type": "code",
      "id": "b450d9d0-804e-4d6c-bd5a-d4cbe331b7b1",
      "metadata": {},
      "outputs": [],
      "source": [
        "a = 1\n\ntry:\n    b = int(input(\"Please enter a number to divide a\"))\n    a = a/b\nexcept ZeroDivisionError:\n    print(\"The number you provided cant divide 1 because it is 0\")\nexcept ValueError:\n    print(\"You did not provide a number\")\nexcept:\n    print(\"Something went wrong\")\nelse:\n    print(\"success a=\",a)"
      ]
    },
    {
      "cell_type": "markdown",
      "id": "3fd1fe68-d7dd-490d-b3aa-deb864d5fd56",
      "metadata": {},
      "outputs": [],
      "source": [
        "Now lets let the user know that we are done processing their answer. Using the <code>finally</code>, let's add a print.\n"
      ]
    },
    {
      "cell_type": "code",
      "id": "b03596a7-9d3b-4b2b-9df7-dc3a988e9467",
      "metadata": {},
      "outputs": [],
      "source": [
        "a = 1\n\ntry:\n    b = int(input(\"Please enter a number to divide a\"))\n    a = a/b\nexcept ZeroDivisionError:\n    print(\"The number you provided cant divide 1 because it is 0\")\nexcept ValueError:\n    print(\"You did not provide a number\")\nexcept:\n    print(\"Something went wrong\")\nelse:\n    print(\"success a=\",a)\nfinally:\n    print(\"Processing Complete\")"
      ]
    },
    {
      "cell_type": "markdown",
      "id": "c71d4939-1b68-41ef-8ccf-17910231738d",
      "metadata": {},
      "outputs": [],
      "source": [
        "<center>\n",
        "    \n",
        "    \n",
        "# Extra Practice(OPTIONAL) \n",
        "\n",
        "</center>\n"
      ]
    },
    {
      "cell_type": "markdown",
      "id": "e489d6f8-6163-46b3-a875-feddd24abd52",
      "metadata": {},
      "outputs": [],
      "source": [
        "## Exercise 1: Handling ZeroDivisionError\n"
      ]
    },
    {
      "cell_type": "markdown",
      "id": "970bcef1-e4c5-4626-8277-fed8578b18d7",
      "metadata": {},
      "outputs": [],
      "source": [
        "Imagine you have two numbers and want to determine what happens when you divide one number by the other. To do this, you need to create a Python function called safe_divide. You give this function two numbers, a 'numerator' and a 'denominator'. The 'numerator' is the number you want to divide, and the 'denominator' is the number you want to divide by. Use the user input method of Python to take the values.\n",
        "\n",
        "The function should be able to do the division for you and give you the result. But here's the catch: if you try to divide by zero (which is not allowed in math), the function should be smart enough to catch that and tell you that it's not possible to divide by zero. Instead of showing an error, it should return None, which means 'nothing' or 'no value', and print \"Error: Cannot divide by Zero.\n"
      ]
    },
    {
      "cell_type": "code",
      "id": "99dc3b1f-59e9-4041-948f-6372519dca03",
      "metadata": {},
      "outputs": [],
      "source": [
        "#Type your code here"
      ]
    },
    {
      "cell_type": "markdown",
      "id": "1b459779-a6bd-4cf1-81be-8446cf217fa4",
      "metadata": {},
      "outputs": [],
      "source": [
        "**Note:- Practice handling exceptions by trying different input types like using integers, strings, zero, negative values, or other data types.**\n"
      ]
    },
    {
      "cell_type": "markdown",
      "id": "f25f802a-00a4-426a-ae15-a1d68d6858d0",
      "metadata": {},
      "outputs": [],
      "source": [
        "<details><summary>Click here for the hints</summary>\n",
        "\n",
        "```python\n",
        "Follow these: -\n",
        "* Define a function to perform the division and use two arguments.\n",
        "* Use the try-except block to handle ZeroDivisionError.\n",
        "* Return the result of the division if no error occurs.\n",
        "* Return None if division by zero occurs.\n",
        "* take user input for numerator and denominator values.\n",
        "* call and print your function with the user inputs.\n",
        "**Note:- Test with different inputs to validate error handling.**\n",
        "```\n",
        "\n",
        "</details>\n"
      ]
    },
    {
      "cell_type": "markdown",
      "id": "6d1e0164-9326-4947-b9ce-d9665eb61ebb",
      "metadata": {},
      "outputs": [],
      "source": [
        "<details><summary>Click here for the solution</summary>\n",
        "\n",
        "```python\n",
        "\n",
        "def safe_divide(numerator,denominator):\n",
        "    try:\n",
        "        result = numerator / denominator\n",
        "        return result\n",
        "    except ZeroDivisionError:\n",
        "        print(\"Error: Cannot divide by zero.\")\n",
        "        return None\n",
        "# Test case\n",
        "numerator=int(input(\"Enter the numerator value:-\"))\n",
        "denominator=int(input(\"Enter the denominator value:-\"))\n",
        "print(safe_divide(numerator,denominator)) \n",
        "```\n",
        "\n",
        "</details>\n"
      ]
    },
    {
      "cell_type": "markdown",
      "id": "b1ed4d4d-151d-437e-8e3f-7506c1a49ceb",
      "metadata": {},
      "outputs": [],
      "source": [
        "## Exercise 2: Handling ValueError\n"
      ]
    },
    {
      "cell_type": "markdown",
      "id": "08b4110d-876f-41ae-8a03-692a1df48fc6",
      "metadata": {},
      "outputs": [],
      "source": [
        "Imagine you have two numbers and want to find out what happens when you multiple one number by the other. To do this, you need to create a Python function. You give this function two numbers, a 'number1' and a 'number2'.\n",
        "\n",
        "When you use this function, it will take a number as input and attempt to multiply it by 2. The function should show you the multiplication result if you provide a valid integer or float value as input. However, the function will be clever enough to detect the mistake if you accidentally enter something other than a whole number, such as a letter or a decimal. It should kindly inform you with a message saying, 'Invalid input! Please enter an integer or a float value.\n"
      ]
    },
    {
      "cell_type": "code",
      "id": "6635c64e-192e-4256-873e-afa8e836d17f",
      "metadata": {},
      "outputs": [],
      "source": [
        "# type your code here"
      ]
    },
    {
      "cell_type": "markdown",
      "id": "31136593-b2e8-4656-b4d7-a10c6d13cb1c",
      "metadata": {},
      "outputs": [],
      "source": [
        "**Note:- Practice handling exceptions by trying different input types like using integers, strings, zero, negative values, or other data types.**\n"
      ]
    },
    {
      "cell_type": "markdown",
      "id": "d5ce88a1-9bcc-4da4-9491-99722ad61c08",
      "metadata": {},
      "outputs": [],
      "source": [
        "<details><summary>Click here for the hints</summary>\n",
        "\n",
        "```python\n",
        "Follow these:-\n",
        "* Define a function to perform the division and use two arguments.\n",
        "* Use try-except block for error handling.\n",
        "* Multiply the user_input by 2 and store in result Catch ValueError and display the error message.\"\n",
        "* Take user input of two values, number1 and number2.\n",
        "* Test with characters to validate error handling.\n",
        "```\n",
        "\n",
        "</details>\n"
      ]
    },
    {
      "cell_type": "markdown",
      "id": "3c3959a9-609e-4690-a9bf-44addb038e3a",
      "metadata": {},
      "outputs": [],
      "source": [
        "<details><summary>Click here for the solution</summary>\n",
        "\n",
        "```python\n",
        "def perform_calculation(number1, number2):\n",
        "    try:\n",
        "        result = number1 * number2\n",
        "        print(f\"Result: {result}\")\n",
        "    except ValueError:\n",
        "        print(\"Error: Invalid input! Please enter an integer.\")\n",
        "# Test case\n",
        "number1=float(input(\"Enter the first number:-\"))\n",
        "number2=float(input(\"Enter the second number:-\"))\n",
        "perform_calculation(number1,number2)\n",
        "**Note:- Test with different inputs to validate error handling.**\n",
        "```\n",
        "\n",
        "</details>\n"
      ]
    },
    {
      "cell_type": "markdown",
      "id": "ff25ca6a-183d-44af-bc89-c367ccdeb33a",
      "metadata": {},
      "outputs": [],
      "source": [
        "## Exercise 3: Handling Generic Exceptions\n"
      ]
    },
    {
      "cell_type": "markdown",
      "id": "349df795-87ff-4fdf-a7db-75a516b45020",
      "metadata": {},
      "outputs": [],
      "source": [
        "Imagine you have a number and want to perform a complex mathematical task. The calculation requires dividing the value of the input argument \"num\" by the difference between \"num\" and 5, and the result has to be stored in a variable called \"result\".\n",
        "\n",
        "You have to define a function so that it can perform that complex mathematical task. The function should handle any potential errors that occur during the calculation. To do this, you can use a try-except block. If any exception arises during the calculation, it should catch the error using the generic exception class \"Exception\" as \"e\". When an exception occurs, the function should display \"An error occurred during calculation.\n"
      ]
    },
    {
      "cell_type": "code",
      "id": "6e24553a-5d5e-44e7-8ac7-12da4551de35",
      "metadata": {},
      "outputs": [],
      "source": [
        "#type your code here"
      ]
    },
    {
      "cell_type": "markdown",
      "id": "48f99710-99a4-4329-b840-d2c8cbe00606",
      "metadata": {},
      "outputs": [],
      "source": [
        "**Note:- Practice handling exceptions by trying different input types like using integers, strings, zero, negative values, or other data types.**\n"
      ]
    },
    {
      "cell_type": "markdown",
      "id": "8f4407ed-c147-4c2c-a784-5d61c58ffb74",
      "metadata": {},
      "outputs": [],
      "source": [
        "<details><summary>Click here for the hints</summary>\n",
        "\n",
        "```python\n",
        "Follow these:-\n",
        "* Define a function for the complex calculation and pass any argument.\n",
        "* Use a try-except block for error handling.\n",
        "* Perform the calculation and store the result in \"result.\"\n",
        "* Catch any exceptions using Exception as e.\n",
        "* Display \"An error occurred during calculation.\" when an exception is caught.\n",
        "* take user input\n",
        "* Call the defined function with the user input\n",
        "**Note:- Test with different inputs to validate error handling.**\n",
        "```\n",
        "\n",
        "</details>\n"
      ]
    },
    {
      "cell_type": "markdown",
      "id": "a4be53ec-3cdc-4ea1-857c-1d387802826e",
      "metadata": {},
      "outputs": [],
      "source": [
        "<details><summary>Click here for the solution</summary>\n",
        "\n",
        "```python\n",
        "def complex_calculation(num):\n",
        "    try:\n",
        "        result = num / (num - 5)\n",
        "        print (f\"Result: {result}\")\n",
        "    except Exception as e:\n",
        "        print(\"An error occurred during calculation.\")\n",
        "# Test case\n",
        "user_input = float(input(\"Enter a number: \"))\n",
        "complex_calculation(user_input)\n",
        "```\n",
        "\n",
        "</details>\n"
      ]
    },
    {
      "cell_type": "markdown",
      "id": "c62780ba-0671-4b47-a6b2-fdc9b2ebed13",
      "metadata": {},
      "outputs": [],
      "source": [
        "## Authors\n"
      ]
    },
    {
      "cell_type": "markdown",
      "id": "bbd284a8-a7ec-43f8-a6eb-24db3fba6511",
      "metadata": {},
      "outputs": [],
      "source": [
        "<a href=\"https://www.linkedin.com/in/joseph-s-50398b136/?utm_medium=Exinfluencer&utm_source=Exinfluencer&utm_content=000026UJ&utm_term=10006555&utm_id=NA-SkillsNetwork-Channel-SkillsNetworkCoursesIBMDeveloperSkillsNetworkPY0101ENSkillsNetwork19487395-2021-01-01\" target=\"_blank\">Joseph Santarcangelo</a>\n"
      ]
    },
    {
      "cell_type": "markdown",
      "id": "ece5324a-823f-40c5-9772-48ce94e43821",
      "metadata": {},
      "outputs": [],
      "source": [
        "## Change Log\n",
        "\n",
        "| Date (YYYY-MM-DD) | Version | Changed By | Change Description           |\n",
        "| ----------------- | ------- | ---------- | ---------------------------- |\n",
        "| 2023-08-08        | 2.1     |Akansha yadav| Added optional practice section\n",
        "| 2020-09-02        | 2.0     | Simran     | Template updates to the file |\n",
        "|                   |         |            |                              |\n",
        "|                   |         |            |                              |\n",
        "\n",
        "## <h3 align=\"center\"> © IBM Corporation 2020. All rights reserved. <h3/>\n"
      ]
    }
  ],
  "metadata": {
    "kernelspec": {
      "display_name": "Python",
      "language": "python",
      "name": "conda-env-python-py"
    },
    "language_info": {
      "name": ""
    }
  },
  "nbformat": 4,
  "nbformat_minor": 4
}