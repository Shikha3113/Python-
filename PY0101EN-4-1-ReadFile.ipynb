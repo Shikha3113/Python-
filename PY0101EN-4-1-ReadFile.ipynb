{
  "cells": [
    {
      "cell_type": "markdown",
      "id": "c6755c0e-81d8-4cfb-87d7-83f629cdb8f4",
      "metadata": {},
      "outputs": [],
      "source": [
        "<center>\n",
        "    <img src=\"https://cf-courses-data.s3.us.cloud-object-storage.appdomain.cloud/IBMDeveloperSkillsNetwork-PY0101EN-SkillsNetwork/IDSNlogo.png\" width=\"300\" alt=\"cognitiveclass.ai logo\">\n",
        "</center>\n",
        "\n",
        "# Reading Files Python\n",
        "\n",
        "Estimated time needed: **40** minutes\n",
        "\n",
        "## Objectives\n",
        "\n",
        "After completing this lab you will be able to:\n",
        "\n",
        "*   Read text files using Python libraries\n"
      ]
    },
    {
      "cell_type": "markdown",
      "id": "01c2ad8d-8b41-489f-89c1-9f7122354029",
      "metadata": {},
      "outputs": [],
      "source": [
        "<h2>Table of Contents</h2>\n",
        "<div class=\"alert alert-block alert-info\" style=\"margin-top: 20px\">\n",
        "    <ul>\n",
        "        <li><a href=\"https://download/?utm_medium=Exinfluencer&utm_source=Exinfluencer&utm_content=000026UJ&utm_term=10006555&utm_id=NA-SkillsNetwork-Channel-SkillsNetworkCoursesIBMDeveloperSkillsNetworkPY0101ENSkillsNetwork19487395-2021-01-01\">Download Data</a></li>\n",
        "        <li><a href=\"https://read/?utm_medium=Exinfluencer&utm_source=Exinfluencer&utm_content=000026UJ&utm_term=10006555&utm_id=NA-SkillsNetwork-Channel-SkillsNetworkCoursesIBMDeveloperSkillsNetworkPY0101ENSkillsNetwork19487395-2021-01-01\">Reading Text Files</a></li>\n",
        "        <li><a href=\"https://better/?utm_medium=Exinfluencer&utm_source=Exinfluencer&utm_content=000026UJ&utm_term=10006555&utm_id=NA-SkillsNetwork-Channel-SkillsNetworkCoursesIBMDeveloperSkillsNetworkPY0101ENSkillsNetwork19487395-2021-01-01\">A Better Way to Open a File</a></li>\n",
        "    </ul>\n",
        "\n",
        "</div>\n",
        "\n",
        "<hr>\n"
      ]
    },
    {
      "cell_type": "markdown",
      "id": "067345b8-7b4b-46ac-8f2e-63aed39df7be",
      "metadata": {},
      "outputs": [],
      "source": [
        "<h2 id=\"download\">Download Data</h2>\n"
      ]
    },
    {
      "cell_type": "code",
      "id": "7b309e90-e779-4055-9ed1-57c3ad280c3f",
      "metadata": {},
      "outputs": [],
      "source": [
        "## Uncomment these if working locally, else let the following code cell run.\n\n# import urllib.request\n# url = 'https://cf-courses-data.s3.us.cloud-object-storage.appdomain.cloud/IBMDeveloperSkillsNetwork-PY0101EN-SkillsNetwork/labs/Module%204/data/example1.txt'\n# filename = 'Example1.txt'\n# urllib.request.urlretrieve(url, filename)\n\n## Download Example file\n# !wget -O /resources/data/Example1.txt https://cf-courses-data.s3.us.cloud-object-storage.appdomain.cloud/IBMDeveloperSkillsNetwork-PY0101EN-SkillsNetwork/labs/Module%204/data/example1.txt"
      ]
    },
    {
      "cell_type": "code",
      "id": "674b5b70-2485-4992-83ee-9e281806e3e8",
      "metadata": {},
      "outputs": [],
      "source": [
        "from pyodide.http import pyfetch\n\nimport pandas as pd\n\nfilename = \"https://cf-courses-data.s3.us.cloud-object-storage.appdomain.cloud/IBMDeveloperSkillsNetwork-PY0101EN-SkillsNetwork/labs/Module%204/data/example1.txt\"\n\nasync def download(url, filename):\n\n    response = await pyfetch(url)\n\n    if response.status == 200:\n\n        with open(filename, \"wb\") as f:\n\n            f.write(await response.bytes())\n\nawait download(filename, \"example1.txt\")\n\nprint(\"done\")\n"
      ]
    },
    {
      "cell_type": "markdown",
      "id": "53dce7b8-6e71-42b9-bd61-ff11abdbcfe2",
      "metadata": {},
      "outputs": [],
      "source": [
        "<hr>\n"
      ]
    },
    {
      "cell_type": "markdown",
      "id": "d5dfc918-d40b-4fd1-b13f-309f68d4f257",
      "metadata": {},
      "outputs": [],
      "source": [
        "<h2 id=\"read\">Reading Text Files</h2>\n"
      ]
    },
    {
      "cell_type": "markdown",
      "id": "e0a855c7-de2c-4c5d-82d4-e6f4e794f6e1",
      "metadata": {},
      "outputs": [],
      "source": [
        "One way to read or write a file in Python is to use the built-in <code>open</code> function. The <code>open</code> function provides a **File object** that contains the methods and attributes you need in order to read, save, and manipulate the file. In this notebook, we will only cover **.txt** files. The first parameter you need is the file path and the file name. An example is shown as follow:\n"
      ]
    },
    {
      "cell_type": "markdown",
      "id": "19cfd32d-351f-46bc-a4c8-2d9a8b94da71",
      "metadata": {},
      "outputs": [],
      "source": [
        "<img src=\"https://cf-courses-data.s3.us.cloud-object-storage.appdomain.cloud/IBMDeveloperSkillsNetwork-PY0101EN-SkillsNetwork/labs/Module%204/images/ReadOpen.png\" width=\"500\">\n"
      ]
    },
    {
      "cell_type": "markdown",
      "id": "da14bbe8-4614-46d6-8000-9e5c77797d5a",
      "metadata": {},
      "outputs": [],
      "source": [
        "The mode argument is optional and the default value is **r**. In this notebook we only cover two modes:\n",
        "\n",
        "<ul>\n",
        "    <li>**r**: Read mode for reading files </li>\n",
        "    <li>**w**: Write mode for writing files</li>\n",
        "</ul>\n"
      ]
    },
    {
      "cell_type": "markdown",
      "id": "0383d59e-9b5c-4998-944e-11340af184b7",
      "metadata": {},
      "outputs": [],
      "source": [
        "For the next example, we will use the text file **Example1.txt**. The file is shown as follows:\n"
      ]
    },
    {
      "cell_type": "markdown",
      "id": "a33332f5-1237-40f1-bed5-7b83498c7044",
      "metadata": {},
      "outputs": [],
      "source": [
        "<img src=\"https://cf-courses-data.s3.us.cloud-object-storage.appdomain.cloud/IBMDeveloperSkillsNetwork-PY0101EN-SkillsNetwork/labs/Module%204/images/ReadFile.png\" width=\"100\">\n"
      ]
    },
    {
      "cell_type": "markdown",
      "id": "791682f9-a4ac-4be8-b403-409f42402665",
      "metadata": {},
      "outputs": [],
      "source": [
        "We read the file:\n"
      ]
    },
    {
      "cell_type": "code",
      "id": "763c4203-a824-4b17-a401-0f75a163b1d8",
      "metadata": {},
      "outputs": [],
      "source": [
        "# Read the Example1.txt\nexample1 = \"example1.txt\"\nfile1 = open(example1, \"r\")\n"
      ]
    },
    {
      "cell_type": "markdown",
      "id": "5ac78deb-3241-40b7-b843-045d2c786aaf",
      "metadata": {},
      "outputs": [],
      "source": [
        "We can view the attributes of the file.\n"
      ]
    },
    {
      "cell_type": "markdown",
      "id": "07e53e50-d9ad-423f-9ccc-f1ed89e997e2",
      "metadata": {},
      "outputs": [],
      "source": [
        "The name of the file:\n"
      ]
    },
    {
      "cell_type": "code",
      "id": "f0c1098a-9d9e-4317-bfec-d9608ed5eb31",
      "metadata": {},
      "outputs": [],
      "source": [
        "# Print the path of file\n\nfile1.name"
      ]
    },
    {
      "cell_type": "markdown",
      "id": "9312220f-ce1c-4b4c-9097-b361a8f30223",
      "metadata": {},
      "outputs": [],
      "source": [
        "The mode the file object is in:\n"
      ]
    },
    {
      "cell_type": "code",
      "id": "7267d9f8-6c63-4af5-9ff0-a9a867c68f1c",
      "metadata": {},
      "outputs": [],
      "source": [
        "# Print the mode of file, either 'r' or 'w'\n\nfile1.mode"
      ]
    },
    {
      "cell_type": "markdown",
      "id": "7fc9529e-5d64-4310-a13e-4601f0e1ee21",
      "metadata": {},
      "outputs": [],
      "source": [
        "We can read the file and assign it to a variable :\n"
      ]
    },
    {
      "cell_type": "code",
      "id": "38c47794-b355-40d4-b398-f2961e144113",
      "metadata": {},
      "outputs": [],
      "source": [
        "# Read the file\n\nFileContent = file1.read()\nFileContent"
      ]
    },
    {
      "cell_type": "markdown",
      "id": "6aacedca-f7f3-418d-bde0-6985c73e1223",
      "metadata": {},
      "outputs": [],
      "source": [
        "The **/n** means that there is a new line.\n"
      ]
    },
    {
      "cell_type": "markdown",
      "id": "031bee01-f93b-4d46-a126-59613106faca",
      "metadata": {},
      "outputs": [],
      "source": [
        "We can print the file:\n"
      ]
    },
    {
      "cell_type": "code",
      "id": "41dbd040-800e-40a4-9fb6-655d42e61c2e",
      "metadata": {},
      "outputs": [],
      "source": [
        "# Print the file with '\\n' as a new line\n\nprint(FileContent)"
      ]
    },
    {
      "cell_type": "markdown",
      "id": "e71c1507-ef38-49c9-85a5-9781f99472d7",
      "metadata": {},
      "outputs": [],
      "source": [
        "The file is of type string:\n"
      ]
    },
    {
      "cell_type": "code",
      "id": "deb64853-80ac-493f-bfe3-b13a91f664ab",
      "metadata": {},
      "outputs": [],
      "source": [
        "# Type of file content\n\ntype(FileContent)"
      ]
    },
    {
      "cell_type": "markdown",
      "id": "2a9d06da-d26b-439f-9ecc-e20b634f7b92",
      "metadata": {},
      "outputs": [],
      "source": [
        "It is very important that the file is closed in the end. This frees up resources and ensures consistency across different python versions.\n"
      ]
    },
    {
      "cell_type": "code",
      "id": "42b28aca-29a9-4deb-a74e-61a0a077bc62",
      "metadata": {},
      "outputs": [],
      "source": [
        "# Close file after finish\n\nfile1.close()"
      ]
    },
    {
      "cell_type": "markdown",
      "id": "0debfe1c-e706-474c-bf9b-ec8a289ff55a",
      "metadata": {},
      "outputs": [],
      "source": [
        "<hr>\n"
      ]
    },
    {
      "cell_type": "markdown",
      "id": "ce45339d-53d7-475f-a584-34e8a149f3b0",
      "metadata": {},
      "outputs": [],
      "source": [
        "<h2 id=\"better\">A Better Way to Open a File</h2>\n"
      ]
    },
    {
      "cell_type": "markdown",
      "id": "314b6bb7-211d-44bf-b704-d4b311e650f1",
      "metadata": {},
      "outputs": [],
      "source": [
        "Using the <code>with</code> statement is better practice, it automatically closes the file even if the code encounters an exception. The code will run everything in the indent block then close the file object.\n"
      ]
    },
    {
      "cell_type": "code",
      "id": "4beae4b7-b786-431e-b76e-6e93a2bd66be",
      "metadata": {},
      "outputs": [],
      "source": [
        "# Open file using with\n\nwith open(example1, \"r\") as file1:\n    FileContent = file1.read()\n    print(FileContent)"
      ]
    },
    {
      "cell_type": "markdown",
      "id": "bb3bebb3-3c7d-4ee1-8166-c7424e390bd5",
      "metadata": {},
      "outputs": [],
      "source": [
        "The file object is closed, you can verify it by running the following cell:\n"
      ]
    },
    {
      "cell_type": "code",
      "id": "8beb2d86-6aec-4cc3-80cb-1baab32386a7",
      "metadata": {},
      "outputs": [],
      "source": [
        "# Verify if the file is closed\n\nfile1.closed"
      ]
    },
    {
      "cell_type": "markdown",
      "id": "8cc047bc-cfe1-4622-a5f6-1906faa3fcf3",
      "metadata": {},
      "outputs": [],
      "source": [
        "We can see the info in the file:\n"
      ]
    },
    {
      "cell_type": "code",
      "id": "8effc4b6-6ec2-49d7-a5cc-e03d790fbf9c",
      "metadata": {},
      "outputs": [],
      "source": [
        "# See the content of file\n\nprint(FileContent)"
      ]
    },
    {
      "cell_type": "markdown",
      "id": "50b7dc30-a6bc-44db-ae24-44509bba7b97",
      "metadata": {},
      "outputs": [],
      "source": [
        "The syntax is a little confusing as the file object is after the <code>as</code> statement. We also don’t explicitly close the file. Therefore we summarize the steps in a figure:\n"
      ]
    },
    {
      "cell_type": "markdown",
      "id": "96f0ccfb-7670-44e2-ae79-84315c2d8c35",
      "metadata": {},
      "outputs": [],
      "source": [
        "<img src=\"https://cf-courses-data.s3.us.cloud-object-storage.appdomain.cloud/IBMDeveloperSkillsNetwork-PY0101EN-SkillsNetwork/labs/Module%204/images/ReadWith.png\" width=\"500\">\n"
      ]
    },
    {
      "cell_type": "markdown",
      "id": "32ffbbea-777e-4086-8f41-c21f7b9d1593",
      "metadata": {},
      "outputs": [],
      "source": [
        "We don’t have to read the entire file, for example, we can read the first 4 characters by entering three as a parameter to the method **.read()**:\n"
      ]
    },
    {
      "cell_type": "code",
      "id": "d2946a07-45e4-480d-948e-f86ae208ecdb",
      "metadata": {},
      "outputs": [],
      "source": [
        "# Read first four characters\n\nwith open(example1, \"r\") as file1:\n    print(file1.read(4))"
      ]
    },
    {
      "cell_type": "markdown",
      "id": "434eaec8-37f2-4e77-80a2-de1b65f07588",
      "metadata": {},
      "outputs": [],
      "source": [
        "Once the method <code>.read(4)</code> is called the first 4 characters are called. If we call the method again, the next 4 characters are called. The output for the following cell will demonstrate the process for different inputs to the method <code>read()</code>:\n"
      ]
    },
    {
      "cell_type": "code",
      "id": "4084e5ca-ee2e-4f8d-b31c-2dfc22a9acb4",
      "metadata": {},
      "outputs": [],
      "source": [
        "# Read certain amount of characters\n\nwith open(example1, \"r\") as file1:\n    print(file1.read(4))\n    print(file1.read(4))\n    print(file1.read(7))\n    print(file1.read(15))"
      ]
    },
    {
      "cell_type": "markdown",
      "id": "e169a93e-2265-42d1-8bba-e05b545ec454",
      "metadata": {},
      "outputs": [],
      "source": [
        "The process is illustrated in the below figure, and each color represents the part of the file read after the method <code>read()</code> is called:\n"
      ]
    },
    {
      "cell_type": "markdown",
      "id": "59e5a2f5-0693-43fe-a629-e1737671dc6b",
      "metadata": {},
      "outputs": [],
      "source": [
        "<img src=\"https://cf-courses-data.s3.us.cloud-object-storage.appdomain.cloud/IBMDeveloperSkillsNetwork-PY0101EN-SkillsNetwork/labs/Module%204/images/read.png\" width=\"500\">\n"
      ]
    },
    {
      "cell_type": "markdown",
      "id": "0f42ec0f-648d-4588-816e-98e8801cd77b",
      "metadata": {},
      "outputs": [],
      "source": [
        "Here is an example using the same file, but instead we read 16, 5, and then 9 characters at a time:\n"
      ]
    },
    {
      "cell_type": "code",
      "id": "e69d5420-ed91-4368-98a2-b9ffae513f5f",
      "metadata": {},
      "outputs": [],
      "source": [
        "# Read certain amount of characters\n\nwith open(example1, \"r\") as file1:\n    print(file1.read(16))\n    print(file1.read(5))\n    print(file1.read(9))"
      ]
    },
    {
      "cell_type": "markdown",
      "id": "7523b2b3-88c2-4d9a-8217-5c5a3377b116",
      "metadata": {},
      "outputs": [],
      "source": [
        "We can also read one line of the file at a time using the method <code>readline()</code>:\n"
      ]
    },
    {
      "cell_type": "code",
      "id": "8c6c9172-437b-41e2-9bb8-32ea709451e2",
      "metadata": {},
      "outputs": [],
      "source": [
        "# Read one line\n\nwith open(example1, \"r\") as file1:\n    print(\"first line: \" + file1.readline())"
      ]
    },
    {
      "cell_type": "markdown",
      "id": "53cfcdc3-319c-40fa-8bd8-eb4466181fa6",
      "metadata": {},
      "outputs": [],
      "source": [
        "We can also pass an argument to <code> readline() </code> to specify the number of charecters we want to read. However, unlike <code> read()</code>, <code> readline()</code> can only read one line at most.\n"
      ]
    },
    {
      "cell_type": "code",
      "id": "8f7b0ccc-f170-46d4-a9d3-b3e007d69b15",
      "metadata": {},
      "outputs": [],
      "source": [
        "with open(example1, \"r\") as file1:\n    print(file1.readline(20)) # does not read past the end of line\n    print(file1.read(20)) # Returns the next 20 chars\n"
      ]
    },
    {
      "cell_type": "markdown",
      "id": "ff697383-45b7-453b-96e9-c997bdb06d0e",
      "metadata": {},
      "outputs": [],
      "source": [
        "We can use a loop to iterate through each line:\n"
      ]
    },
    {
      "cell_type": "code",
      "id": "4967f062-0be5-4f2a-b093-085d4bab391d",
      "metadata": {},
      "outputs": [],
      "source": [
        "# Iterate through the lines\n\nwith open(example1,\"r\") as file1:\n        i = 0;\n        for line in file1:\n            print(\"Iteration\", str(i), \": \", line)\n            i = i + 1"
      ]
    },
    {
      "cell_type": "markdown",
      "id": "42d9d49e-6c99-4a52-aef5-dff41b507022",
      "metadata": {},
      "outputs": [],
      "source": [
        "We can use the method <code>readlines()</code> to save the text file to a list:\n"
      ]
    },
    {
      "cell_type": "code",
      "id": "87238077-0e52-494e-8f2d-73314944a60d",
      "metadata": {},
      "outputs": [],
      "source": [
        "# Read all lines and save as a list\n\nwith open(example1, \"r\") as file1:\n    FileasList = file1.readlines()"
      ]
    },
    {
      "cell_type": "markdown",
      "id": "2cc88657-8e60-4ccf-8708-8f3487879aa3",
      "metadata": {},
      "outputs": [],
      "source": [
        "Each element of the list corresponds to a line of text:\n"
      ]
    },
    {
      "cell_type": "code",
      "id": "55c7f14d-e5cd-481d-9078-2c6ac2d02ac3",
      "metadata": {},
      "outputs": [],
      "source": [
        "# Print the first line\n\nFileasList[0]"
      ]
    },
    {
      "cell_type": "markdown",
      "id": "baf91468-5361-45d6-90f6-34031d6cabcd",
      "metadata": {},
      "outputs": [],
      "source": [
        "# Print the second line\n",
        "\n",
        "FileasList\\[1]\n"
      ]
    },
    {
      "cell_type": "code",
      "id": "6b08513f-c155-4fea-af5c-702d9585d5b3",
      "metadata": {},
      "outputs": [],
      "source": [
        "# Print the third line\n\nFileasList[2]"
      ]
    },
    {
      "cell_type": "markdown",
      "id": "34d23f3e-0374-4492-8aee-170e2e5a2be1",
      "metadata": {},
      "outputs": [],
      "source": [
        "<hr>\n",
        "<h2>The last exercise!</h2>\n",
        "<p>Congratulations, you have completed your first lesson and hands-on lab in Python.\n",
        "<hr>\n"
      ]
    },
    {
      "cell_type": "markdown",
      "id": "4095c239-138d-4a16-a1a2-24ff1bb7c8b7",
      "metadata": {},
      "outputs": [],
      "source": [
        "## Author\n",
        "\n",
        "<a href=\"https://www.linkedin.com/in/joseph-s-50398b136/?utm_medium=Exinfluencer&utm_source=Exinfluencer&utm_content=000026UJ&utm_term=10006555&utm_id=NA-SkillsNetwork-Channel-SkillsNetworkCoursesIBMDeveloperSkillsNetworkPY0101ENSkillsNetwork19487395-2021-01-01\" target=\"_blank\">Joseph Santarcangelo</a>\n",
        "\n",
        "## Other contributors\n",
        "\n",
        "<a href=\"https://www.linkedin.com/in/jiahui-mavis-zhou-a4537814a?utm_medium=Exinfluencer&utm_source=Exinfluencer&utm_content=000026UJ&utm_term=10006555&utm_id=NA-SkillsNetwork-Channel-SkillsNetworkCoursesIBMDeveloperSkillsNetworkPY0101ENSkillsNetwork19487395-2021-01-01\">Mavis Zhou</a>\n",
        "\n",
        "## Change Log\n",
        "\n",
        "| Date (YYYY-MM-DD) | Version | Changed By    | Change Description                                        |\n",
        "| ----------------- | ------- | ------------- | --------------------------------------------------------- |\n",
        "| 2022-01-10        | 2.1     | Malika        | Removed the readme for GitShare                           |\n",
        "| 2020-09-30        | 1.3     | Malika        | Deleted exericse \"Weather Data\"                           |\n",
        "| 2020-09-30        | 1.2     | Malika Singla | Weather Data dataset link added                           |\n",
        "| 2020-09-30        | 1.1     | Arjun Swani   | Added exericse \"Weather Data\"                             |\n",
        "| 2020-09-30        | 1.0     | Arjun Swani   | Added blurbs about closing files and read() vs readline() |\n",
        "| 2020-08-26        | 0.2     | Lavanya       | Moved lab to course repo in GitLab                        |\n",
        "|                   |         |               |                                                           |\n",
        "|                   |         |               |                                                           |\n",
        "\n",
        "<hr/>\n",
        "\n",
        "## <h3 align=\"center\"> © IBM Corporation 2020. All rights reserved. <h3/>\n"
      ]
    }
  ],
  "metadata": {
    "kernelspec": {
      "display_name": "Python",
      "language": "python",
      "name": "conda-env-python-py"
    },
    "language_info": {
      "name": ""
    }
  },
  "nbformat": 4,
  "nbformat_minor": 4
}